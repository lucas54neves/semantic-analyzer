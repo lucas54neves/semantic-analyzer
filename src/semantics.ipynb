{
 "cells": [
  {
   "cell_type": "code",
   "execution_count": 1,
   "id": "d207dfa4",
   "metadata": {},
   "outputs": [
    {
     "name": "stdout",
     "output_type": "stream",
     "text": [
      "Collecting nltk==3.6.2\n",
      "  Downloading nltk-3.6.2-py3-none-any.whl (1.5 MB)\n",
      "Requirement already satisfied: click in c:\\users\\lucas\\anaconda3\\lib\\site-packages (from nltk==3.6.2) (7.1.2)\n",
      "Requirement already satisfied: joblib in c:\\users\\lucas\\anaconda3\\lib\\site-packages (from nltk==3.6.2) (1.0.1)\n",
      "Requirement already satisfied: tqdm in c:\\users\\lucas\\anaconda3\\lib\\site-packages (from nltk==3.6.2) (4.59.0)\n",
      "Requirement already satisfied: regex in c:\\users\\lucas\\anaconda3\\lib\\site-packages (from nltk==3.6.2) (2021.4.4)\n",
      "Installing collected packages: nltk\n",
      "  Attempting uninstall: nltk\n",
      "    Found existing installation: nltk 3.6.1\n",
      "    Uninstalling nltk-3.6.1:\n",
      "      Successfully uninstalled nltk-3.6.1\n",
      "Successfully installed nltk-3.6.2\n"
     ]
    }
   ],
   "source": [
    "!pip install nltk==3.6.2"
   ]
  },
  {
   "cell_type": "code",
   "execution_count": 9,
   "id": "4bb44510",
   "metadata": {},
   "outputs": [
    {
     "name": "stderr",
     "output_type": "stream",
     "text": [
      "[nltk_data] Downloading package omw to\n",
      "[nltk_data]     C:\\Users\\lucas\\AppData\\Roaming\\nltk_data...\n",
      "[nltk_data]   Package omw is already up-to-date!\n",
      "[nltk_data] Downloading package wordnet to\n",
      "[nltk_data]     C:\\Users\\lucas\\AppData\\Roaming\\nltk_data...\n",
      "[nltk_data]   Unzipping corpora\\wordnet.zip.\n"
     ]
    },
    {
     "data": {
      "text/plain": [
       "True"
      ]
     },
     "execution_count": 9,
     "metadata": {},
     "output_type": "execute_result"
    }
   ],
   "source": [
    "import nltk\n",
    "nltk.download(\"omw\")\n",
    "nltk.download('wordnet')"
   ]
  },
  {
   "cell_type": "code",
   "execution_count": 10,
   "id": "c450ad00",
   "metadata": {},
   "outputs": [],
   "source": [
    "from nltk.corpus import wordnet as wn"
   ]
  },
  {
   "cell_type": "code",
   "execution_count": 58,
   "id": "f9815d1f",
   "metadata": {},
   "outputs": [],
   "source": [
    "def get_hyponyms(synsets):\n",
    "    synset = synsets[0]\n",
    "    \n",
    "    hyponyms = []\n",
    "    \n",
    "    for hyponym in synset.hyponyms():\n",
    "        hyponyms.extend(hyponym.lemma_names('por'))\n",
    "        \n",
    "    return hyponyms\n",
    "\n",
    "def get_hypernyms(synsets):\n",
    "    synset = synsets[0]\n",
    "    \n",
    "    return synset.hypernyms()[0].lemma_names('por')\n",
    "\n",
    "def get_synonyms(synsets):\n",
    "    synset = synsets[0]\n",
    "    \n",
    "    return synset.lemma_names('por')\n",
    "\n",
    "def search_wordnet(searched_word):\n",
    "    synsets = wn.synsets(searched_word, lang='por')\n",
    "\n",
    "    data = {\n",
    "        'searched_word': searched_word,\n",
    "        'synonyms': get_synonyms(synsets),\n",
    "        'hypernyms': get_hypernyms(synsets),\n",
    "        'hyponyms': get_hyponyms(synsets)\n",
    "    }\n",
    "    \n",
    "    return data"
   ]
  },
  {
   "cell_type": "code",
   "execution_count": 60,
   "id": "ab6c114b",
   "metadata": {},
   "outputs": [
    {
     "data": {
      "text/plain": [
       "True"
      ]
     },
     "execution_count": 60,
     "metadata": {},
     "output_type": "execute_result"
    }
   ],
   "source": [
    "teste = {'searched_word': 'computador',\n",
    " 'synonyms': ['calculador',\n",
    "  'calculadora',\n",
    "  'Calculadoras',\n",
    "  'calculista',\n",
    "  'computador'],\n",
    " 'hypernyms': ['máquina', 'maquinaria'],\n",
    " 'hyponyms': ['Abaco',\n",
    "  'ábaco',\n",
    "  'máquina_de_somar',\n",
    "  'Ossos_de_napier',\n",
    "  'Ossos_de_Napier',\n",
    "  'quipo']}\n",
    "\n",
    "search_wordnet('computador') == teste"
   ]
  },
  {
   "cell_type": "code",
   "execution_count": 61,
   "id": "70119429",
   "metadata": {},
   "outputs": [
    {
     "data": {
      "text/plain": [
       "True"
      ]
     },
     "execution_count": 61,
     "metadata": {},
     "output_type": "execute_result"
    }
   ],
   "source": [
    "teste = {'searched_word': 'veículo',\n",
    " 'synonyms': ['auto',\n",
    "  'automóveis',\n",
    "  'automóveis_particulares',\n",
    "  'automovel',\n",
    "  'automóvel',\n",
    "  'carro',\n",
    "  'máquina',\n",
    "  'veículo',\n",
    "  'viatura'],\n",
    " 'hypernyms': ['veículos_motorizados'],\n",
    " 'hyponyms': ['Ambulancia',\n",
    "  'ambulância',\n",
    "  'hospital_militar_móvel',\n",
    "  'carro',\n",
    "  'calhambeque',\n",
    "  'Taxi',\n",
    "  'táxi',\n",
    "  'conversível',\n",
    "  'compartimento_de_vagão',\n",
    "  'coupé',\n",
    "  'cupê',\n",
    "  'carro_de_polícia',\n",
    "  'Carro_de_polícia',\n",
    "  'viatura_policial',\n",
    "  'Hot_rod',\n",
    "  'Hot_Rod',\n",
    "  'jipe',\n",
    "  'Limusina',\n",
    "  'limusine',\n",
    "  'monovolume',\n",
    "  'sedan',\n",
    "  'Utilitário_esportivo',\n",
    "  'Utilitário_Esportivo',\n",
    "  'Utilitários_esportivos']}\n",
    "\n",
    "search_wordnet('veículo') == teste"
   ]
  },
  {
   "cell_type": "code",
   "execution_count": 63,
   "id": "bbff7d9a",
   "metadata": {},
   "outputs": [
    {
     "data": {
      "text/plain": [
       "True"
      ]
     },
     "execution_count": 63,
     "metadata": {},
     "output_type": "execute_result"
    }
   ],
   "source": [
    "teste = {'searched_word': 'sol',\n",
    " 'synonyms': ['Estrela_fixa', 'sol'],\n",
    " 'hypernyms': ['estrela'],\n",
    " 'hyponyms': []}\n",
    "\n",
    "search_wordnet('sol') == teste"
   ]
  },
  {
   "cell_type": "code",
   "execution_count": 64,
   "id": "bde2171e",
   "metadata": {},
   "outputs": [
    {
     "data": {
      "text/plain": [
       "True"
      ]
     },
     "execution_count": 64,
     "metadata": {},
     "output_type": "execute_result"
    }
   ],
   "source": [
    "teste = {'searched_word': 'estudo',\n",
    " 'synonyms': ['estudo'],\n",
    " 'hypernyms': ['aprendizagem', 'aquisição'],\n",
    " 'hyponyms': []}\n",
    "\n",
    "search_wordnet('estudo') == teste"
   ]
  },
  {
   "cell_type": "code",
   "execution_count": 66,
   "id": "8590c3e5",
   "metadata": {},
   "outputs": [
    {
     "data": {
      "text/plain": [
       "True"
      ]
     },
     "execution_count": 66,
     "metadata": {},
     "output_type": "execute_result"
    }
   ],
   "source": [
    "teste = {'searched_word': 'perplexidade',\n",
    " 'synonyms': ['aperto', 'embaraço', 'perplexidade'],\n",
    " 'hypernyms': [],\n",
    " 'hyponyms': ['dilema', 'misterio', 'mistério']}\n",
    "\n",
    "search_wordnet('perplexidade') == teste"
   ]
  },
  {
   "cell_type": "code",
   "execution_count": 67,
   "id": "8985d240",
   "metadata": {},
   "outputs": [
    {
     "data": {
      "text/plain": [
       "True"
      ]
     },
     "execution_count": 67,
     "metadata": {},
     "output_type": "execute_result"
    }
   ],
   "source": [
    "teste = {'searched_word': 'processo',\n",
    " 'synonyms': ['procedimento', 'processo'],\n",
    " 'hypernyms': ['procedimento_legal'],\n",
    " 'hyponyms': []}\n",
    "\n",
    "search_wordnet('processo') == teste"
   ]
  },
  {
   "cell_type": "code",
   "execution_count": 70,
   "id": "03302270",
   "metadata": {},
   "outputs": [
    {
     "data": {
      "text/plain": [
       "True"
      ]
     },
     "execution_count": 70,
     "metadata": {},
     "output_type": "execute_result"
    }
   ],
   "source": [
    "teste = {'searched_word': 'comércio',\n",
    " 'synonyms': ['comércio', 'compra_e_venda'],\n",
    " 'hypernyms': ['comércio'],\n",
    " 'hyponyms': ['Insider_trading']}\n",
    "\n",
    "search_wordnet('comércio') == teste"
   ]
  }
 ],
 "metadata": {
  "kernelspec": {
   "display_name": "Python 3",
   "language": "python",
   "name": "python3"
  },
  "language_info": {
   "codemirror_mode": {
    "name": "ipython",
    "version": 3
   },
   "file_extension": ".py",
   "mimetype": "text/x-python",
   "name": "python",
   "nbconvert_exporter": "python",
   "pygments_lexer": "ipython3",
   "version": "3.8.8"
  }
 },
 "nbformat": 4,
 "nbformat_minor": 5
}
